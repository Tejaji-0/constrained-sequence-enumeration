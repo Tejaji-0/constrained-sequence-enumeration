{
 "cells": [
  {
   "cell_type": "markdown",
   "metadata": {},
   "source": [
    "# DNA Storage Encoder Application\n",
    "Demonstrate the DNA storage encoder and code rate/error-rate analysis."
   ]
  },
  {
   "cell_type": "code",
   "metadata": {},
   "execution_count": null,
   "outputs": [],
   "source": [
    "from src.dna_encoder import DNAConstrainedEncoder\n",
    "encoder = DNAConstrainedEncoder(max_length=150, max_freq=45, max_run=3)\n",
    "print(f\"Total constrained sequences: {encoder.total_sequences}\")\n",
    "print(f\"Code rate: {encoder.code_rate:.3f}\")\n",
    "\n",
    "# Encode a binary string into constrained DNA sequence\n",
    "binary_data = bin(123456789)[2:].zfill(50)\n",
    "dna_seq = encoder.encode_data(binary_data)\n",
    "print(\"DNA sequence:\", dna_seq)"
   ]
  }
 ],
 "metadata": {
  "kernelspec": {
   "display_name": "Python 3",
   "language": "python",
   "name": "python3"
  },
  "language_info": {
   "name": "python",
   "version": ""
  }
 },
 "nbformat": 4,
 "nbformat_minor": 2
}
