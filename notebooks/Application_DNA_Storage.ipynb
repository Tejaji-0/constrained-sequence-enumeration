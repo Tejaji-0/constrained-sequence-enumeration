{
 "cells": [
  {
   "cell_type": "markdown",
   "metadata": {},
   "source": [
    "# DNA Storage Encoder Application\n",
    "Demonstrate the DNA storage encoder and code rate/error-rate analysis."
   ]
  },
  {
   "cell_type": "code",
   "execution_count": 26,
   "metadata": {},
   "outputs": [],
   "source": [
    "import sys\n",
    "import os\n",
    "sys.path.append(os.path.abspath('../src'))"
   ]
  },
  {
   "cell_type": "code",
   "execution_count": null,
   "metadata": {},
   "outputs": [],
   "source": [
    "from dna_encoder import DNAConstrainedEncoder\n",
    "encoder = DNAConstrainedEncoder(max_length=150, max_freq=45, max_run=3)\n",
    "print(f\"Total constrained sequences: {encoder.total_sequences}\")\n",
    "print(f\"Code rate: {encoder.code_rate:.3f}\")\n",
    "\n",
    "# Encode a binary string into constrained DNA sequence\n",
    "binary_data = bin(123456789)[2:].zfill(50)\n",
    "dna_seq = encoder.encode_data(binary_data)\n",
    "print(\"DNA sequence:\", dna_seq)"
   ]
  }
 ],
 "metadata": {
  "kernelspec": {
   "display_name": "Python 3",
   "language": "python",
   "name": "python3"
  },
  "language_info": {
   "codemirror_mode": {
    "name": "ipython",
    "version": 3
   },
   "file_extension": ".py",
   "mimetype": "text/x-python",
   "name": "python",
   "nbconvert_exporter": "python",
   "pygments_lexer": "ipython3",
   "version": "3.9.9"
  }
 },
 "nbformat": 4,
 "nbformat_minor": 2
}
