{
 "cells": [
  {
   "cell_type": "markdown",
   "metadata": {},
   "source": [
    "# Growth Rate Analysis\n",
    "Empirically estimate the exponential growth rate $\\alpha$ for various $(K,U,R)$."
   ]
  },
  {
   "cell_type": "code",
   "execution_count": 1,
   "metadata": {},
   "outputs": [],
   "source": [
    "import sys\n",
    "import os\n",
    "sys.path.append(os.path.abspath('../src'))"
   ]
  },
  {
   "cell_type": "code",
   "execution_count": null,
   "metadata": {},
   "outputs": [],
   "source": [
    "import numpy as np\n",
    "import matplotlib.pyplot as plt\n",
    "from constrained_sequences import ConstrainedSequenceEnumerator\n",
    "\n",
    "K, U, R = 2, 10, 3\n",
    "n_max = 18\n",
    "values = []\n",
    "ns = list(range(5, n_max+1))\n",
    "for n in ns:\n",
    "    enumerator = ConstrainedSequenceEnumerator(n, K, U, R)\n",
    "    count, _ = enumerator.compute()\n",
    "    values.append(count)\n",
    "    print(f\"n={n}: f({n},{K},{U},{R})={count}\")\n",
    "alphas = [values[i]**(1.0/(ns[i])) for i in range(len(values))]\n",
    "plt.plot(ns, alphas, marker='o')\n",
    "plt.xlabel('n')\n",
    "plt.ylabel('Empirical growth rate alpha')\n",
    "plt.title(f'Empirical growth rate for (K={K}, U={U}, R={R})')\n",
    "plt.grid()\n",
    "plt.show()"
   ]
  }
 ],
 "metadata": {
  "kernelspec": {
   "display_name": "Python 3",
   "language": "python",
   "name": "python3"
  },
  "language_info": {
   "codemirror_mode": {
    "name": "ipython",
    "version": 3
   },
   "file_extension": ".py",
   "mimetype": "text/x-python",
   "name": "python",
   "nbconvert_exporter": "python",
   "pygments_lexer": "ipython3",
   "version": "3.9.9"
  }
 },
 "nbformat": 4,
 "nbformat_minor": 2
}
