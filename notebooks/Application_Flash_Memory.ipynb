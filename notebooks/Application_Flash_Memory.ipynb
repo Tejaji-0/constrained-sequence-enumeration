{
 "cells": [
  {
   "cell_type": "markdown",
   "metadata": {},
   "source": [
    "# Flash Memory Application\n",
    "Demonstrate flash memory encoding and lifespan analysis."
   ]
  },
  {
   "cell_type": "code",
   "execution_count": 3,
   "metadata": {},
   "outputs": [],
   "source": [
    "import sys\n",
    "import os\n",
    "sys.path.append(os.path.abspath('../src'))"
   ]
  },
  {
   "cell_type": "code",
   "execution_count": null,
   "metadata": {},
   "outputs": [],
   "source": [
    "from flash_coding import FlashMemoryConstrainedCoding\n",
    "import numpy as np\n",
    "\n",
    "coder = FlashMemoryConstrainedCoding(page_size=2048, symbol_bits=8)\n",
    "data_bytes = np.random.randint(0, 256, size=2000).astype(np.uint8)\n",
    "encoded_page = coder.encode_page(data_bytes)\n",
    "print(f\"Encoded page (first 20 bytes): {encoded_page[:20]}\")\n",
    "\n",
    "# Example wear improvement calculation\n",
    "impr = coder.compute_wear_improvement(8500, 10400)\n",
    "print(f\"Wear improvement: {impr:.1f}%\")"
   ]
  }
 ],
 "metadata": {
  "kernelspec": {
   "display_name": "Python 3",
   "language": "python",
   "name": "python3"
  },
  "language_info": {
   "codemirror_mode": {
    "name": "ipython",
    "version": 3
   },
   "file_extension": ".py",
   "mimetype": "text/x-python",
   "name": "python",
   "nbconvert_exporter": "python",
   "pygments_lexer": "ipython3",
   "version": "3.9.9"
  }
 },
 "nbformat": 4,
 "nbformat_minor": 2
}
