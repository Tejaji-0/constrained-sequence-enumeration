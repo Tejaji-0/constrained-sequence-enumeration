{
 "cells": [
  {
   "cell_type": "markdown",
   "metadata": {},
   "source": [
    "# Flash Memory Application\n",
    "Demonstrate flash memory encoding and lifespan analysis."
   ]
  },
  {
   "cell_type": "code",
   "metadata": {},
   "execution_count": null,
   "outputs": [],
   "source": [
    "from src.flash_coding import FlashMemoryConstrainedCoding\n",
    "import numpy as np\n",
    "\n",
    "coder = FlashMemoryConstrainedCoding(page_size=2048, symbol_bits=8)\n",
    "data_bytes = np.random.randint(0, 256, size=2000).astype(np.uint8)\n",
    "encoded_page = coder.encode_page(data_bytes)\n",
    "print(f\"Encoded page (first 20 bytes): {encoded_page[:20]}\")\n",
    "\n",
    "# Example wear improvement calculation\n",
    "impr = coder.compute_wear_improvement(8500, 10400)\n",
    "print(f\"Wear improvement: {impr:.1f}%\")"
   ]
  }
 ],
 "metadata": {
  "kernelspec": {
   "display_name": "Python 3",
   "language": "python",
   "name": "python3"
  },
  "language_info": {
   "name": "python",
   "version": ""
  }
 },
 "nbformat": 4,
 "nbformat_minor": 2
}
