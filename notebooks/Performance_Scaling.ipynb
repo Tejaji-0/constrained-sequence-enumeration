{
 "cells": [
  {
   "cell_type": "markdown",
   "metadata": {},
   "source": [
    "# Performance and Scalability\n",
    "Visualize how runtime and memory scale with sequence length $n$."
   ]
  },
  {
   "cell_type": "code",
   "metadata": {},
   "execution_count": null,
   "outputs": [],
   "source": [
    "import pandas as pd\n",
    "import matplotlib.pyplot as plt\n",
    "\n",
    "# Assume you have 'runtime_results.csv' from experiments/benchmark_runtime.py\n",
    "df = pd.read_csv('../experiments/runtime_results.csv')\n",
    "plt.figure(figsize=(8,6))\n",
    "plt.semilogy(df['n'], df['time_ms'], marker='o', label='Actual Runtime (ms)')\n",
    "plt.xlabel('Sequence Length n')\n",
    "plt.ylabel('Computation Time (ms)')\n",
    "plt.title('Runtime scaling with sequence length')\n",
    "plt.grid(True, which='both', ls='--')\n",
    "plt.legend()\n",
    "plt.show()"
   ]
  }
 ],
 "metadata": {
  "kernelspec": {
   "display_name": "Python 3",
   "language": "python",
   "name": "python3"
  },
  "language_info": {
   "name": "python",
   "version": ""
  }
 },
 "nbformat": 4,
 "nbformat_minor": 2
}
