{
 "cells": [
  {
   "cell_type": "markdown",
   "metadata": {},
   "source": [
    "# Enumeration Experiments\n",
    "Run enumeration for various $(n,K,U,R)$, verify with literature, and fill result tables."
   ]
  },
  {
   "cell_type": "code",
   "execution_count": 1,
   "metadata": {},
   "outputs": [],
   "source": [
    "import sys\n",
    "import os\n",
    "sys.path.append(os.path.abspath('../src'))"
   ]
  },
  {
   "cell_type": "code",
   "execution_count": null,
   "metadata": {},
   "outputs": [],
   "source": [
    "from constrained_sequences import ConstrainedSequenceEnumerator\n",
    "import pandas as pd\n",
    "\n",
    "results = []\n",
    "for K in [2, 3, 4]:\n",
    "    for n in range(1, 11):\n",
    "        U = min(n, 3)\n",
    "        R = 2\n",
    "        enumerator = ConstrainedSequenceEnumerator(n, K, U, R)\n",
    "        count, _ = enumerator.compute()\n",
    "        results.append({'n': n, 'K': K, 'U': U, 'R': R, 'count': count})\n",
    "\n",
    "df = pd.DataFrame(results)\n",
    "display(df.pivot(index='n', columns='K', values='count'))"
   ]
  }
 ],
 "metadata": {
  "kernelspec": {
   "display_name": "Python 3",
   "language": "python",
   "name": "python3"
  },
  "language_info": {
   "codemirror_mode": {
    "name": "ipython",
    "version": 3
   },
   "file_extension": ".py",
   "mimetype": "text/x-python",
   "name": "python",
   "nbconvert_exporter": "python",
   "pygments_lexer": "ipython3",
   "version": "3.9.9"
  }
 },
 "nbformat": 4,
 "nbformat_minor": 2
}
