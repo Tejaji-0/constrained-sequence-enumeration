{
 "cells": [
  {
   "cell_type": "markdown",
   "metadata": {},
   "source": [
    "# Enumeration Experiments\n",
    "Run enumeration for various $(n,K,U,R)$, verify with literature, and fill result tables."
   ]
  },
  {
   "cell_type": "code",
   "metadata": {},
   "execution_count": null,
   "outputs": [],
   "source": [
    "from src.constrained_sequences import ConstrainedSequenceEnumerator\n",
    "import pandas as pd\n",
    "\n",
    "results = []\n",
    "for K in [2, 3, 4]:\n",
    "    for n in range(1, 11):\n",
    "        U = min(n, 3)\n",
    "        R = 2\n",
    "        enumerator = ConstrainedSequenceEnumerator(n, K, U, R)\n",
    "        count, _ = enumerator.compute()\n",
    "        results.append({'n': n, 'K': K, 'U': U, 'R': R, 'count': count})\n",
    "\n",
    "df = pd.DataFrame(results)\n",
    "display(df.pivot(index='n', columns='K', values='count'))"
   ]
  }
 ],
 "metadata": {
  "kernelspec": {
   "display_name": "Python 3",
   "language": "python",
   "name": "python3"
  },
  "language_info": {
   "name": "python",
   "version": ""
  }
 },
 "nbformat": 4,
 "nbformat_minor": 2
}
